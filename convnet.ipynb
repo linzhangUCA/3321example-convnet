{
 "cells": [
  {
   "cell_type": "markdown",
   "metadata": {},
   "source": [
    "\n",
    "# Convolutional Neural Network\n",
    "\n"
   ]
  },
  {
   "cell_type": "markdown",
   "metadata": {},
   "source": [
    "## 1. Load Data\n"
   ]
  },
  {
   "cell_type": "code",
   "execution_count": 4,
   "metadata": {
    "collapsed": false
   },
   "outputs": [
    {
     "name": "stdout",
     "output_type": "stream",
     "text": [
      "Training set has 60000 instances\n",
      "Validation set has 10000 instances\n"
     ]
    }
   ],
   "source": [
    "import torch\n",
    "import torchvision\n",
    "import torchvision.transforms as transforms\n",
    "\n",
    "# PyTorch TensorBoard support\n",
    "# from torch.utils.tensorboard import SummaryWriter\n",
    "# from datetime import datetime\n",
    "\n",
    "\n",
    "transform = transforms.Compose(\n",
    "    [transforms.ToTensor(),\n",
    "    transforms.Normalize((0.5,), (0.5,))])\n",
    "\n",
    "# Create datasets for training & validation, download if necessary\n",
    "training_set = torchvision.datasets.FashionMNIST('./data', train=True, transform=transform, download=True)\n",
    "validation_set = torchvision.datasets.FashionMNIST('./data', train=False, transform=transform, download=True)\n",
    "\n",
    "# Create data loaders for our datasets; shuffle for training, not for validation\n",
    "training_loader = torch.utils.data.DataLoader(training_set, batch_size=4, shuffle=True)\n",
    "validation_loader = torch.utils.data.DataLoader(validation_set, batch_size=4, shuffle=False)\n",
    "\n",
    "# Class labels\n",
    "classes = ('T-shirt/top', 'Trouser', 'Pullover', 'Dress', 'Coat',\n",
    "        'Sandal', 'Shirt', 'Sneaker', 'Bag', 'Ankle Boot')\n",
    "\n",
    "# Report split sizes\n",
    "print('Training set has {} instances'.format(len(training_set)))\n",
    "print('Validation set has {} instances'.format(len(validation_set)))\n"
   ]
  },
  {
   "cell_type": "markdown",
   "metadata": {},
   "source": [
    "### Visualize Data"
   ]
  },
  {
   "cell_type": "code",
   "execution_count": 5,
   "metadata": {},
   "outputs": [
    {
     "name": "stdout",
     "output_type": "stream",
     "text": [
      "Shirt  Sandal  T-shirt/top  Shirt\n"
     ]
    },
    {
     "data": {
      "image/png": "[encoded data removed]",
      "text/plain": [
       "<Figure size 640x480 with 1 Axes>"
      ]
     },
     "metadata": {},
     "output_type": "display_data"
    }
   ],
   "source": [
    "import matplotlib.pyplot as plt\n",
    "import numpy as np\n",
    "\n",
    "# Helper function for inline image display\n",
    "def matplotlib_imshow(img, one_channel=False):\n",
    "    if one_channel:\n",
    "        img = img.mean(dim=0)\n",
    "    img = img / 2 + 0.5     # unnormalize\n",
    "    npimg = img.numpy()\n",
    "    if one_channel:\n",
    "        plt.imshow(npimg, cmap=\"Greys\")\n",
    "    else:\n",
    "        plt.imshow(np.transpose(npimg, (1, 2, 0)))\n",
    "\n",
    "dataiter = iter(training_loader)\n",
    "images, labels = next(dataiter)\n",
    "\n",
    "# Create a grid from the images and show them\n",
    "img_grid = torchvision.utils.make_grid(images)\n",
    "matplotlib_imshow(img_grid, one_channel=True)\n",
    "print('  '.join(classes[labels[j]] for j in range(4)))"
   ]
  },
  {
   "cell_type": "markdown",
   "metadata": {},
   "source": [
    "## 2. Create a Convolutional Neural Network\n"
   ]
  },
  {
   "cell_type": "code",
   "execution_count": 6,
   "metadata": {
    "collapsed": false
   },
   "outputs": [],
   "source": [
    "import torch.nn as nn\n",
    "import torch.nn.functional as F\n",
    "\n",
    "# PyTorch models inherit from torch.nn.Module\n",
    "class GarmentClassifier(nn.Module):\n",
    "    def __init__(self):\n",
    "        super(GarmentClassifier, self).__init__()\n",
    "        self.conv1 = nn.Conv2d(1, 6, 5)\n",
    "        self.pool = nn.MaxPool2d(2, 2)\n",
    "        self.conv2 = nn.Conv2d(6, 16, 5)\n",
    "        self.fc1 = nn.Linear(16 * 4 * 4, 120)\n",
    "        self.fc2 = nn.Linear(120, 84)\n",
    "        self.fc3 = nn.Linear(84, 10)\n",
    "\n",
    "    def forward(self, x):\n",
    "        x = self.pool(F.relu(self.conv1(x)))\n",
    "        x = self.pool(F.relu(self.conv2(x)))\n",
    "        x = x.view(-1, 16 * 4 * 4)\n",
    "        x = F.relu(self.fc1(x))\n",
    "        x = F.relu(self.fc2(x))\n",
    "        x = self.fc3(x)\n",
    "        return x\n",
    "\n",
    "\n",
    "model = GarmentClassifier()"
   ]
  },
  {
   "cell_type": "markdown",
   "metadata": {},
   "source": [
    "## 3. Cross Entropy Loss\n"
   ]
  },
  {
   "cell_type": "code",
   "execution_count": 7,
   "metadata": {
    "collapsed": false
   },
   "outputs": [
    {
     "name": "stdout",
     "output_type": "stream",
     "text": [
      "tensor([[0.0011, 0.6053, 0.4971, 0.7190, 0.1326, 0.5513, 0.7454, 0.5425, 0.1713,\n",
      "         0.2643],\n",
      "        [0.6775, 0.4560, 0.0770, 0.8561, 0.3650, 0.6625, 0.4342, 0.6896, 0.6274,\n",
      "         0.8134],\n",
      "        [0.6496, 0.1403, 0.3247, 0.3341, 0.1386, 0.4153, 0.8690, 0.5408, 0.9712,\n",
      "         0.9777],\n",
      "        [0.0148, 0.1606, 0.1656, 0.5708, 0.9221, 0.6995, 0.5179, 0.3618, 0.6097,\n",
      "         0.7591]])\n",
      "tensor([1, 5, 3, 7])\n",
      "Total loss for this batch: 2.346862554550171\n"
     ]
    }
   ],
   "source": [
    "loss_fn = torch.nn.CrossEntropyLoss()\n",
    "\n",
    "# NB: Loss functions expect data in batches, so we're creating batches of 4\n",
    "# Represents the model's confidence in each of the 10 classes for a given input\n",
    "dummy_outputs = torch.rand(4, 10)\n",
    "# Represents the correct class among the 10 being tested\n",
    "dummy_labels = torch.tensor([1, 5, 3, 7])\n",
    "\n",
    "print(dummy_outputs)\n",
    "print(dummy_labels)\n",
    "\n",
    "loss = loss_fn(dummy_outputs, dummy_labels)\n",
    "print('Total loss for this batch: {}'.format(loss.item()))"
   ]
  },
  {
   "cell_type": "markdown",
   "metadata": {},
   "source": [
    "## 4. Optimizer"
   ]
  },
  {
   "cell_type": "code",
   "execution_count": 8,
   "metadata": {},
   "outputs": [],
   "source": [
    "# Optimizers specified in the torch.optim package\n",
    "optimizer = torch.optim.SGD(model.parameters(), lr=0.001, momentum=0.9)"
   ]
  },
  {
   "cell_type": "markdown",
   "metadata": {},
   "source": [
    "## 5. Train the network\n",
    "### Per-Epoch Activity\n"
   ]
  },
  {
   "cell_type": "code",
   "execution_count": 10,
   "metadata": {
    "collapsed": false
   },
   "outputs": [],
   "source": [
    "def train_one_epoch(epoch_index):\n",
    "    running_loss = 0.\n",
    "    last_loss = 0.\n",
    "\n",
    "    # Here, we use enumerate(training_loader) instead of\n",
    "    # iter(training_loader) so that we can track the batch\n",
    "    # index and do some intra-epoch reporting\n",
    "    for i, data in enumerate(training_loader):\n",
    "        # Every data instance is an input + label pair\n",
    "        inputs, labels = data\n",
    "\n",
    "        # Zero your gradients for every batch!\n",
    "        optimizer.zero_grad()\n",
    "\n",
    "        # Make predictions for this batch\n",
    "        outputs = model(inputs)\n",
    "\n",
    "        # Compute the loss and its gradients\n",
    "        loss = loss_fn(outputs, labels)\n",
    "        loss.backward()\n",
    "\n",
    "        # Adjust learning weights\n",
    "        optimizer.step()\n",
    "\n",
    "        # Gather data and report\n",
    "        running_loss += loss.item()\n",
    "        if i % 1000 == 999:\n",
    "            last_loss = running_loss / 1000 # loss per batch\n",
    "            print('  batch {} loss: {}'.format(i + 1, last_loss))\n",
    "            # tb_x = epoch_index * len(training_loader) + i + 1\n",
    "            # tb_writer.add_scalar('Loss/train', last_loss, tb_x)\n",
    "            running_loss = 0.\n",
    "\n",
    "    return last_loss"
   ]
  },
  {
   "cell_type": "markdown",
   "metadata": {},
   "source": [
    "### Multiple Epochs"
   ]
  },
  {
   "cell_type": "code",
   "execution_count": null,
   "metadata": {},
   "outputs": [
    {
     "name": "stdout",
     "output_type": "stream",
     "text": [
      "EPOCH 1:\n",
      "  batch 1000 loss: 1.8407556702792645\n",
      "  batch 2000 loss: 0.8749795267991721\n",
      "  batch 3000 loss: 0.7324666945952922\n",
      "  batch 4000 loss: 0.6564940435905009\n",
      "  batch 5000 loss: 0.6077160715796054\n",
      "  batch 6000 loss: 0.5440358044463209\n",
      "  batch 7000 loss: 0.5435046407094923\n",
      "  batch 8000 loss: 0.5174626575896982\n",
      "  batch 9000 loss: 0.5091280344920233\n",
      "  batch 10000 loss: 0.47756998491799457\n",
      "  batch 11000 loss: 0.4691865077639231\n",
      "  batch 12000 loss: 0.47263793799863196\n",
      "  batch 13000 loss: 0.462347135720076\n",
      "  batch 14000 loss: 0.42011859886767344\n",
      "  batch 15000 loss: 0.413149175106133\n",
      "LOSS train 0.413149175106133 valid 0.4328720271587372\n",
      "EPOCH 2:\n",
      "  batch 1000 loss: 0.396211026969715\n",
      "  batch 2000 loss: 0.3784739063198795\n",
      "  batch 3000 loss: 0.3893904087402625\n",
      "  batch 4000 loss: 0.35922142141198854\n",
      "  batch 5000 loss: 0.36765356952825096\n",
      "  batch 6000 loss: 0.38763769240514373\n",
      "  batch 7000 loss: 0.3761661134462338\n",
      "  batch 8000 loss: 0.3816400774320355\n",
      "  batch 9000 loss: 0.3696248953506001\n",
      "  batch 10000 loss: 0.37598546315258136\n",
      "  batch 11000 loss: 0.35635279582161455\n",
      "  batch 12000 loss: 0.3466459976832848\n",
      "  batch 13000 loss: 0.36360912027503944\n",
      "  batch 14000 loss: 0.3580240198484826\n",
      "  batch 15000 loss: 0.33962215235501936\n",
      "LOSS train 0.33962215235501936 valid 0.40867459774017334\n",
      "EPOCH 3:\n",
      "  batch 1000 loss: 0.3203356847051618\n",
      "  batch 2000 loss: 0.3239922246197239\n",
      "  batch 3000 loss: 0.3265967750475975\n",
      "  batch 4000 loss: 0.33525488786658386\n",
      "  batch 5000 loss: 0.3136498338529782\n",
      "  batch 6000 loss: 0.2973046549632127\n",
      "  batch 7000 loss: 0.33667194276053486\n",
      "  batch 8000 loss: 0.3329687819283281\n",
      "  batch 9000 loss: 0.330772307084786\n",
      "  batch 10000 loss: 0.3104563652140205\n",
      "  batch 11000 loss: 0.3249185387852485\n",
      "  batch 12000 loss: 0.3311609124300494\n",
      "  batch 13000 loss: 0.31927199190849204\n",
      "  batch 14000 loss: 0.29936505433753335\n",
      "  batch 15000 loss: 0.3138919956408718\n",
      "LOSS train 0.3138919956408718 valid 0.3292819857597351\n",
      "EPOCH 4:\n",
      "  batch 1000 loss: 0.3137308870329725\n",
      "  batch 2000 loss: 0.30573258703410466\n",
      "  batch 3000 loss: 0.2892270330967294\n",
      "  batch 4000 loss: 0.30200481473476976\n",
      "  batch 5000 loss: 0.2847373004939727\n",
      "  batch 6000 loss: 0.29116167507633145\n",
      "  batch 7000 loss: 0.28484194038925487\n",
      "  batch 8000 loss: 0.2804687017544857\n",
      "  batch 9000 loss: 0.289982296451446\n",
      "  batch 10000 loss: 0.28040089311264454\n",
      "  batch 11000 loss: 0.30915700593736256\n",
      "  batch 12000 loss: 0.29630994097157964\n",
      "  batch 13000 loss: 0.30585116408587054\n",
      "  batch 14000 loss: 0.28582249005202176\n",
      "  batch 15000 loss: 0.30427654846527\n",
      "LOSS train 0.30427654846527 valid 0.30420738458633423\n",
      "EPOCH 5:\n",
      "  batch 1000 loss: 0.26237522177483696\n",
      "  batch 2000 loss: 0.27853949161607305\n",
      "  batch 3000 loss: 0.28336650858737267\n",
      "  batch 4000 loss: 0.26610305874316326\n",
      "  batch 5000 loss: 0.2594311926439841\n",
      "  batch 6000 loss: 0.2721419580639922\n",
      "  batch 7000 loss: 0.2673170128843703\n",
      "  batch 8000 loss: 0.27744381884441827\n",
      "  batch 9000 loss: 0.2680416734348219\n",
      "  batch 10000 loss: 0.2975332587833545\n",
      "  batch 11000 loss: 0.27149421470765084\n",
      "  batch 12000 loss: 0.29443608107350155\n",
      "  batch 13000 loss: 0.2796777302360024\n",
      "  batch 14000 loss: 0.28947998154707605\n",
      "  batch 15000 loss: 0.2712284617299665\n",
      "LOSS train 0.2712284617299665 valid 0.2915749251842499\n"
     ]
    }
   ],
   "source": [
    "# Initializing in a separate cell so we can easily add more epochs to the same run\n",
    "from datetime import datetime\n",
    "timestamp = datetime.now().strftime('%Y%m%d_%H%M%S')\n",
    "# writer = SummaryWriter('runs/fashion_trainer_{}'.format(timestamp))\n",
    "epoch_number = 0\n",
    "\n",
    "EPOCHS = 5\n",
    "\n",
    "best_vloss = 1_000_000.\n",
    "\n",
    "for epoch in range(EPOCHS):\n",
    "    print('EPOCH {}:'.format(epoch_number + 1))\n",
    "\n",
    "    # Make sure gradient tracking is on, and do a pass over the data\n",
    "    model.train(True)\n",
    "    avg_loss = train_one_epoch(epoch_number)\n",
    "\n",
    "\n",
    "    running_vloss = 0.0\n",
    "    # Set the model to evaluation mode, disabling dropout and using population\n",
    "    # statistics for batch normalization.\n",
    "    model.eval()\n",
    "\n",
    "    # Disable gradient computation and reduce memory consumption.\n",
    "    with torch.no_grad():\n",
    "        for i, vdata in enumerate(validation_loader):\n",
    "            vinputs, vlabels = vdata\n",
    "            voutputs = model(vinputs)\n",
    "            vloss = loss_fn(voutputs, vlabels)\n",
    "            running_vloss += vloss\n",
    "\n",
    "    avg_vloss = running_vloss / (i + 1)\n",
    "    print('LOSS train {} valid {}'.format(avg_loss, avg_vloss))\n",
    "\n",
    "    # Log the running loss averaged per batch\n",
    "    # for both training and validation\n",
    "    # writer.add_scalars('Training vs. Validation Loss',\n",
    "    #                 { 'Training' : avg_loss, 'Validation' : avg_vloss },\n",
    "    #                 epoch_number + 1)\n",
    "    # writer.flush()\n",
    "\n",
    "    # Track best performance, and save the model's state\n",
    "    if avg_vloss < best_vloss:\n",
    "        best_vloss = avg_vloss\n",
    "        model_path = 'model_{}_{}'.format(timestamp, epoch_number)\n",
    "        torch.save(model.state_dict(), model_path)\n",
    "\n",
    "    epoch_number += 1"
   ]
  },
  {
   "cell_type": "markdown",
   "metadata": {},
   "source": [
    "## 5. Evaluate the Convolutional Neural Network Model\n"
   ]
  },
  {
   "cell_type": "code",
   "execution_count": 17,
   "metadata": {
    "collapsed": false
   },
   "outputs": [
    {
     "name": "stdout",
     "output_type": "stream",
     "text": [
      "GroundTruth:  Ankle Boot  Pullover  Trouser  Trouser\n",
      "Predicted:  Ankle Boot  Pullover  Trouser  Trouser\n"
     ]
    },
    {
     "data": {
      "image/png": "[encoded data removed]",
      "text/plain": [
       "<Figure size 640x480 with 1 Axes>"
      ]
     },
     "metadata": {},
     "output_type": "display_data"
    }
   ],
   "source": [
    "dataiter = iter(validation_loader)\n",
    "images, labels = next(dataiter)\n",
    "img_grid = torchvision.utils.make_grid(images)\n",
    "matplotlib_imshow(img_grid, one_channel=True)\n",
    "print('GroundTruth: ', '  '.join(classes[labels[j]] for j in range(4)))\n",
    "\n",
    "val_outputs = model(images)\n",
    "max_val, max_ids = torch.max(val_outputs, dim=1)\n",
    "print('Predicted: ', '  '.join(classes[max_ids[j]] for j in range(4)))\n"
   ]
  },
  {
   "cell_type": "markdown",
   "metadata": {},
   "source": [
    "### Classification Accuracy"
   ]
  },
  {
   "cell_type": "code",
   "execution_count": 23,
   "metadata": {
    "collapsed": false
   },
   "outputs": [
    {
     "name": "stdout",
     "output_type": "stream",
     "text": [
      "Accuracy of the network on the 10000 test images: 89 %\n",
      "Accuracy for class: T-shirt/top is 85.1 %\n",
      "Accuracy for class: Trouser is 97.7 %\n",
      "Accuracy for class: Pullover is 83.3 %\n",
      "Accuracy for class: Dress is 90.2 %\n",
      "Accuracy for class: Coat  is 88.9 %\n",
      "Accuracy for class: Sandal is 97.0 %\n",
      "Accuracy for class: Shirt is 60.7 %\n",
      "Accuracy for class: Sneaker is 98.0 %\n",
      "Accuracy for class: Bag   is 97.3 %\n",
      "Accuracy for class: Ankle Boot is 93.6 %\n"
     ]
    }
   ],
   "source": [
    "correct_num = 0\n",
    "total_num = 0\n",
    "# Since we're not training, we don't need to calculate the gradients for our outputs\n",
    "with torch.no_grad():  # zero the parameter gradients\n",
    "    for images, labels in validation_loader:\n",
    "        outputs = model(images)  # predict images classes\n",
    "        _, max_ids = torch.max(outputs.data, dim=1)  # the class with the highest energy is what we choose as prediction\n",
    "        total_num += labels.size(0)\n",
    "        correct_num += (max_ids == labels).sum().item()\n",
    "print(f'Accuracy of the network on the 10000 test images: {100 * correct_num // total_num} %')\n",
    "\n",
    "# Prepare to count predictions for each class\n",
    "correct_pred = {classname: 0 for classname in classes}\n",
    "total_pred = {classname: 0 for classname in classes}\n",
    "\n",
    "with torch.no_grad():  # again no gradients needed\n",
    "    for images, labels in validation_loader:\n",
    "        outputs = model(images)\n",
    "        _, max_ids = torch.max(outputs.data, dim=1)  # the class with the highest energy is what we choose as prediction\n",
    "        # collect the correct predictions for each class\n",
    "        for label, prediction in zip(labels, max_ids):\n",
    "            if label == prediction:\n",
    "                correct_pred[classes[label]] += 1\n",
    "            total_pred[classes[label]] += 1\n",
    "\n",
    "\n",
    "# print accuracy for each class\n",
    "for classname, correct_count in correct_pred.items():\n",
    "    accuracy = 100 * float(correct_count) / total_pred[classname]\n",
    "    print(f'Accuracy for class: {classname:5s} is {accuracy:.1f} %')"
   ]
  },
  {
   "cell_type": "markdown",
   "metadata": {},
   "source": [
    "## 6. Further Improvements"
   ]
  },
  {
   "cell_type": "markdown",
   "metadata": {},
   "source": [
    "### Dataloader with Larger Batch Size"
   ]
  },
  {
   "cell_type": "code",
   "execution_count": 20,
   "metadata": {},
   "outputs": [],
   "source": [
    "training_loader = torch.utils.data.DataLoader(training_set, batch_size=64, shuffle=True)\n",
    "validation_loader = torch.utils.data.DataLoader(validation_set, batch_size=64, shuffle=False)\n"
   ]
  },
  {
   "cell_type": "markdown",
   "metadata": {},
   "source": [
    "### Updated Model with GPU Support"
   ]
  },
  {
   "cell_type": "code",
   "execution_count": 34,
   "metadata": {},
   "outputs": [
    {
     "name": "stdout",
     "output_type": "stream",
     "text": [
      "Using cuda device\n",
      "WearingClassifier(\n",
      "  (conv1): Conv2d(1, 16, kernel_size=(5, 5), stride=(2, 2))\n",
      "  (conv2): Conv2d(16, 32, kernel_size=(5, 5), stride=(1, 1))\n",
      "  (conv3): Conv2d(32, 32, kernel_size=(3, 3), stride=(1, 1))\n",
      "  (fc1): Linear(in_features=512, out_features=128, bias=True)\n",
      "  (fc2): Linear(in_features=128, out_features=64, bias=True)\n",
      "  (fc3): Linear(in_features=64, out_features=10, bias=True)\n",
      ")\n"
     ]
    }
   ],
   "source": [
    "device = (\n",
    "    \"cuda\"\n",
    "    if torch.cuda.is_available()\n",
    "    else \"mps\"\n",
    "    if torch.backends.mps.is_available()\n",
    "    else \"cpu\"\n",
    ")\n",
    "print(f\"Using {device} device\")\n",
    "\n",
    "class WearingClassifier(nn.Module):\n",
    "    def __init__(self):\n",
    "        super(WearingClassifier, self).__init__()\n",
    "        self.conv1 = nn.Conv2d(in_channels=1, out_channels=16, kernel_size=5, stride=2)\n",
    "        self.conv2 = nn.Conv2d(16, 32, 5)\n",
    "        self.conv3 = nn.Conv2d(32, 32, 3)\n",
    "        self.fc1 = nn.Linear(32 * 4 * 4, 128)\n",
    "        self.fc2 = nn.Linear(128, 64)\n",
    "        self.fc3 = nn.Linear(64, 10)\n",
    "\n",
    "    def forward(self, x):\n",
    "        x = F.relu(self.conv1(x))  # (28 - 5 + 2 * 0) / 2 + 1 = 12.5\n",
    "        x = F.relu(self.conv2(x))  # (12 - 5 + 2 * 0) / 1 + 1 = 8\n",
    "        x = F.relu(self.conv3(x))  # (8 - 3 + 2 * 0) / 1 + 1 = 6\n",
    "        x = F.relu(self.conv3(x))  # (6 - 3 + 2 * 0) / 1 + 1 = 4\n",
    "        x = x.view(-1, 32 * 4 * 4)  \n",
    "        x = F.relu(self.fc1(x))\n",
    "        x = F.relu(self.fc2(x))\n",
    "        x = self.fc3(x)\n",
    "        return x\n",
    "\n",
    "\n",
    "model = WearingClassifier().to(device)\n",
    "print(model)"
   ]
  },
  {
   "cell_type": "code",
   "execution_count": 35,
   "metadata": {},
   "outputs": [
    {
     "name": "stdout",
     "output_type": "stream",
     "text": [
      "tensor([[ 0.0017, -0.0499, -0.0785,  0.0666,  0.0711,  0.0530,  0.0244, -0.0432,\n",
      "         -0.1054,  0.0649],\n",
      "        [ 0.0043, -0.0494, -0.0805,  0.0670,  0.0714,  0.0567,  0.0217, -0.0434,\n",
      "         -0.1096,  0.0641],\n",
      "        [ 0.0062, -0.0520, -0.0807,  0.0649,  0.0716,  0.0549,  0.0205, -0.0436,\n",
      "         -0.1081,  0.0670],\n",
      "        [ 0.0047, -0.0527, -0.0799,  0.0650,  0.0692,  0.0527,  0.0238, -0.0449,\n",
      "         -0.1062,  0.0662],\n",
      "        [ 0.0027, -0.0518, -0.0787,  0.0653,  0.0715,  0.0533,  0.0226, -0.0439,\n",
      "         -0.1052,  0.0659],\n",
      "        [ 0.0038, -0.0543, -0.0777,  0.0666,  0.0714,  0.0504,  0.0235, -0.0446,\n",
      "         -0.1051,  0.0677],\n",
      "        [ 0.0019, -0.0521, -0.0775,  0.0665,  0.0696,  0.0503,  0.0256, -0.0458,\n",
      "         -0.1050,  0.0667],\n",
      "        [ 0.0028, -0.0510, -0.0786,  0.0661,  0.0708,  0.0524,  0.0237, -0.0435,\n",
      "         -0.1055,  0.0665],\n",
      "        [ 0.0034, -0.0523, -0.0774,  0.0677,  0.0707,  0.0489,  0.0256, -0.0430,\n",
      "         -0.1049,  0.0657],\n",
      "        [ 0.0032, -0.0495, -0.0779,  0.0663,  0.0711,  0.0515,  0.0247, -0.0401,\n",
      "         -0.1060,  0.0652],\n",
      "        [ 0.0023, -0.0501, -0.0779,  0.0662,  0.0718,  0.0532,  0.0237, -0.0430,\n",
      "         -0.1055,  0.0655],\n",
      "        [ 0.0008, -0.0497, -0.0763,  0.0659,  0.0702,  0.0517,  0.0256, -0.0426,\n",
      "         -0.1055,  0.0661],\n",
      "        [ 0.0022, -0.0511, -0.0777,  0.0678,  0.0709,  0.0500,  0.0259, -0.0408,\n",
      "         -0.1044,  0.0657],\n",
      "        [ 0.0049, -0.0505, -0.0805,  0.0650,  0.0716,  0.0550,  0.0213, -0.0433,\n",
      "         -0.1071,  0.0651],\n",
      "        [ 0.0044, -0.0496, -0.0797,  0.0660,  0.0714,  0.0557,  0.0223, -0.0414,\n",
      "         -0.1069,  0.0666],\n",
      "        [ 0.0042, -0.0526, -0.0804,  0.0651,  0.0696,  0.0536,  0.0228, -0.0450,\n",
      "         -0.1058,  0.0665],\n",
      "        [ 0.0023, -0.0522, -0.0785,  0.0658,  0.0704,  0.0513,  0.0243, -0.0455,\n",
      "         -0.1042,  0.0669],\n",
      "        [ 0.0031, -0.0509, -0.0778,  0.0658,  0.0697,  0.0533,  0.0232, -0.0424,\n",
      "         -0.1054,  0.0649],\n",
      "        [ 0.0035, -0.0505, -0.0777,  0.0657,  0.0704,  0.0540,  0.0240, -0.0412,\n",
      "         -0.1073,  0.0648],\n",
      "        [ 0.0052, -0.0523, -0.0785,  0.0652,  0.0704,  0.0548,  0.0217, -0.0416,\n",
      "         -0.1075,  0.0658],\n",
      "        [ 0.0042, -0.0507, -0.0793,  0.0656,  0.0719,  0.0551,  0.0223, -0.0428,\n",
      "         -0.1070,  0.0656],\n",
      "        [ 0.0024, -0.0493, -0.0776,  0.0671,  0.0712,  0.0512,  0.0248, -0.0401,\n",
      "         -0.1062,  0.0645],\n",
      "        [ 0.0021, -0.0475, -0.0785,  0.0668,  0.0716,  0.0532,  0.0242, -0.0389,\n",
      "         -0.1062,  0.0646],\n",
      "        [ 0.0029, -0.0480, -0.0797,  0.0660,  0.0704,  0.0519,  0.0248, -0.0426,\n",
      "         -0.1073,  0.0652],\n",
      "        [ 0.0043, -0.0505, -0.0802,  0.0651,  0.0706,  0.0536,  0.0222, -0.0433,\n",
      "         -0.1072,  0.0660],\n",
      "        [ 0.0032, -0.0525, -0.0785,  0.0676,  0.0703,  0.0517,  0.0245, -0.0447,\n",
      "         -0.1058,  0.0665],\n",
      "        [ 0.0030, -0.0496, -0.0788,  0.0653,  0.0712,  0.0556,  0.0221, -0.0428,\n",
      "         -0.1060,  0.0658],\n",
      "        [ 0.0042, -0.0516, -0.0802,  0.0653,  0.0712,  0.0557,  0.0217, -0.0432,\n",
      "         -0.1066,  0.0666],\n",
      "        [ 0.0021, -0.0489, -0.0790,  0.0654,  0.0711,  0.0556,  0.0227, -0.0409,\n",
      "         -0.1060,  0.0648],\n",
      "        [ 0.0037, -0.0514, -0.0778,  0.0653,  0.0708,  0.0547,  0.0229, -0.0423,\n",
      "         -0.1064,  0.0656],\n",
      "        [ 0.0040, -0.0501, -0.0797,  0.0657,  0.0704,  0.0560,  0.0224, -0.0414,\n",
      "         -0.1079,  0.0644],\n",
      "        [ 0.0026, -0.0510, -0.0800,  0.0659,  0.0688,  0.0532,  0.0229, -0.0476,\n",
      "         -0.1052,  0.0661],\n",
      "        [ 0.0041, -0.0512, -0.0803,  0.0679,  0.0724,  0.0534,  0.0233, -0.0416,\n",
      "         -0.1069,  0.0665],\n",
      "        [ 0.0036, -0.0503, -0.0787,  0.0672,  0.0717,  0.0539,  0.0227, -0.0418,\n",
      "         -0.1078,  0.0652],\n",
      "        [ 0.0030, -0.0503, -0.0791,  0.0664,  0.0708,  0.0534,  0.0236, -0.0429,\n",
      "         -0.1055,  0.0649],\n",
      "        [ 0.0032, -0.0533, -0.0787,  0.0656,  0.0700,  0.0514,  0.0238, -0.0457,\n",
      "         -0.1046,  0.0668],\n",
      "        [ 0.0042, -0.0502, -0.0786,  0.0669,  0.0711,  0.0534,  0.0234, -0.0402,\n",
      "         -0.1076,  0.0636],\n",
      "        [ 0.0027, -0.0526, -0.0786,  0.0681,  0.0707,  0.0500,  0.0259, -0.0447,\n",
      "         -0.1050,  0.0667],\n",
      "        [ 0.0028, -0.0492, -0.0796,  0.0681,  0.0721,  0.0533,  0.0240, -0.0398,\n",
      "         -0.1058,  0.0647],\n",
      "        [ 0.0025, -0.0501, -0.0778,  0.0657,  0.0706,  0.0537,  0.0236, -0.0426,\n",
      "         -0.1062,  0.0646],\n",
      "        [ 0.0031, -0.0505, -0.0788,  0.0654,  0.0713,  0.0549,  0.0222, -0.0421,\n",
      "         -0.1077,  0.0659],\n",
      "        [ 0.0062, -0.0528, -0.0798,  0.0649,  0.0720,  0.0527,  0.0225, -0.0444,\n",
      "         -0.1092,  0.0670],\n",
      "        [ 0.0045, -0.0519, -0.0792,  0.0644,  0.0704,  0.0551,  0.0220, -0.0435,\n",
      "         -0.1070,  0.0658],\n",
      "        [ 0.0029, -0.0482, -0.0793,  0.0663,  0.0716,  0.0554,  0.0238, -0.0413,\n",
      "         -0.1070,  0.0657],\n",
      "        [ 0.0036, -0.0500, -0.0786,  0.0651,  0.0707,  0.0550,  0.0229, -0.0420,\n",
      "         -0.1063,  0.0660],\n",
      "        [ 0.0018, -0.0506, -0.0790,  0.0655,  0.0700,  0.0525,  0.0239, -0.0452,\n",
      "         -0.1043,  0.0660],\n",
      "        [ 0.0025, -0.0507, -0.0785,  0.0661,  0.0710,  0.0549,  0.0226, -0.0431,\n",
      "         -0.1063,  0.0651],\n",
      "        [ 0.0053, -0.0514, -0.0803,  0.0649,  0.0722,  0.0544,  0.0218, -0.0432,\n",
      "         -0.1080,  0.0662],\n",
      "        [ 0.0021, -0.0515, -0.0788,  0.0662,  0.0706,  0.0523,  0.0239, -0.0432,\n",
      "         -0.1043,  0.0667],\n",
      "        [ 0.0044, -0.0520, -0.0789,  0.0641,  0.0700,  0.0546,  0.0228, -0.0423,\n",
      "         -0.1063,  0.0653],\n",
      "        [ 0.0024, -0.0508, -0.0785,  0.0672,  0.0708,  0.0538,  0.0235, -0.0432,\n",
      "         -0.1065,  0.0657],\n",
      "        [ 0.0020, -0.0519, -0.0772,  0.0673,  0.0705,  0.0512,  0.0249, -0.0440,\n",
      "         -0.1049,  0.0666],\n",
      "        [ 0.0022, -0.0512, -0.0793,  0.0670,  0.0705,  0.0520,  0.0251, -0.0435,\n",
      "         -0.1053,  0.0653],\n",
      "        [ 0.0037, -0.0501, -0.0779,  0.0655,  0.0704,  0.0552,  0.0225, -0.0401,\n",
      "         -0.1068,  0.0650],\n",
      "        [ 0.0029, -0.0521, -0.0783,  0.0664,  0.0714,  0.0528,  0.0232, -0.0433,\n",
      "         -0.1051,  0.0661],\n",
      "        [ 0.0026, -0.0516, -0.0781,  0.0666,  0.0714,  0.0534,  0.0238, -0.0434,\n",
      "         -0.1066,  0.0662],\n",
      "        [ 0.0031, -0.0499, -0.0790,  0.0666,  0.0708,  0.0535,  0.0234, -0.0419,\n",
      "         -0.1065,  0.0658],\n",
      "        [ 0.0030, -0.0511, -0.0785,  0.0651,  0.0706,  0.0542,  0.0226, -0.0433,\n",
      "         -0.1052,  0.0654],\n",
      "        [ 0.0024, -0.0498, -0.0769,  0.0680,  0.0709,  0.0525,  0.0247, -0.0406,\n",
      "         -0.1076,  0.0644],\n",
      "        [ 0.0028, -0.0522, -0.0786,  0.0662,  0.0697,  0.0513,  0.0246, -0.0453,\n",
      "         -0.1045,  0.0669],\n",
      "        [ 0.0021, -0.0487, -0.0780,  0.0672,  0.0715,  0.0519,  0.0245, -0.0413,\n",
      "         -0.1058,  0.0645],\n",
      "        [ 0.0017, -0.0486, -0.0781,  0.0665,  0.0712,  0.0532,  0.0227, -0.0404,\n",
      "         -0.1056,  0.0642],\n",
      "        [ 0.0047, -0.0507, -0.0798,  0.0653,  0.0693,  0.0552,  0.0217, -0.0411,\n",
      "         -0.1079,  0.0644],\n",
      "        [ 0.0027, -0.0510, -0.0785,  0.0671,  0.0715,  0.0521,  0.0240, -0.0420,\n",
      "         -0.1049,  0.0650]], device='cuda:0', grad_fn=<AddmmBackward0>)\n"
     ]
    }
   ],
   "source": [
    "images, labels = next(iter(validation_loader))\n",
    "X, y = images.to(device), labels.to(device)\n",
    "print(model(X))"
   ]
  },
  {
   "cell_type": "code",
   "execution_count": null,
   "metadata": {},
   "outputs": [],
   "source": []
  }
 ],
 "metadata": {
  "kernelspec": {
   "display_name": "3321",
   "language": "python",
   "name": "python3"
  },
  "language_info": {
   "codemirror_mode": {
    "name": "ipython",
    "version": 3
   },
   "file_extension": ".py",
   "mimetype": "text/x-python",
   "name": "python",
   "nbconvert_exporter": "python",
   "pygments_lexer": "ipython3",
   "version": "3.12.7"
  }
 },
 "nbformat": 4,
 "nbformat_minor": 0
}
